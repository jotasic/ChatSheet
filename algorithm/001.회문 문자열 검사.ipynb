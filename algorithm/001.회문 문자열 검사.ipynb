{
 "cells": [
  {
   "cell_type": "markdown",
   "id": "dc452913",
   "metadata": {},
   "source": [
    "# 회문 문자열 검사\n",
    "N개의 문자열 데이터를 입력받아 앞에서 읽을 때나 뒤어서 읽을 때나 같은 경우 이면 YES를 출력 아니면 NO를 출력하는 프로그램 작성"
   ]
  },
  {
   "cell_type": "code",
   "execution_count": 4,
   "id": "600e6fd9",
   "metadata": {},
   "outputs": [
    {
     "name": "stdout",
     "output_type": "stream",
     "text": [
      "LEVEL - YES\n",
      "MOON - NO\n",
      "ABCBA - YES\n",
      "SOON - NO\n",
      "GOOG - YES\n",
      "STTS - YES\n",
      "ABCBA - YES\n",
      "YES - NO\n",
      "GOODBOY - NO\n",
      "STTTTTTS - YES\n",
      "SKSKSKUUUUUUUUUUUUUUUUUUUUUUUUUUUUUUUUUUUUUUUUUUUUUUUUUUUKSKSKS - YES\n",
      "LEVEL - YES\n",
      "MOON - NO\n",
      "ABCBA - YES\n",
      "SOON - NO\n",
      "GOOG - YES\n",
      "STTS - YES\n",
      "ABCBA - YES\n",
      "YES - NO\n",
      "GOODBOY - NO\n",
      "STTTTTTS - YES\n",
      "SKSKSKUUUUUUUUUUUUUUUUUUUUUUUUUUUUUUUUUUUUUUUUUUUUUUUUUUUKSKSKS - YES\n"
     ]
    }
   ],
   "source": [
    "input = ['level', 'moon', 'abcba', 'soon', 'gooG', 'stts', 'abcba', 'yes', 'goodboy', 'stttttts','skskskuuuuuuuuuuuuuuuuuuUuuuuuuuuuuuuuuuuuuuuuuuuuuuuuuuuksksks']\n",
    "\n",
    "# 풀이 1\n",
    "for str in input:\n",
    "    str = str.upper()\n",
    "    for i in range(0, len(str) // 2) :\n",
    "        if str[i] != str[-1-i]:\n",
    "            print(f'{str} - NO')\n",
    "            break\n",
    "    else:\n",
    "        print(f'{str} - YES')\n",
    "\n",
    "\n",
    "# 풀이 2\n",
    "for str in input:\n",
    "    str = str.upper()\n",
    "    \n",
    "    if str == str[::-1]:\n",
    "        print(f'{str} - YES')\n",
    "    else:\n",
    "        print(f'{str} - NO')"
   ]
  },
  {
   "cell_type": "code",
   "execution_count": null,
   "id": "970a722b",
   "metadata": {},
   "outputs": [],
   "source": []
  }
 ],
 "metadata": {
  "kernelspec": {
   "display_name": "Python 3",
   "language": "python",
   "name": "python3"
  },
  "language_info": {
   "codemirror_mode": {
    "name": "ipython",
    "version": 3
   },
   "file_extension": ".py",
   "mimetype": "text/x-python",
   "name": "python",
   "nbconvert_exporter": "python",
   "pygments_lexer": "ipython3",
   "version": "3.8.5"
  }
 },
 "nbformat": 4,
 "nbformat_minor": 5
}
