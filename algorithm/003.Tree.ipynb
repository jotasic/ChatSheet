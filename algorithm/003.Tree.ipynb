{
 "cells": [
  {
   "cell_type": "markdown",
   "metadata": {},
   "source": [
    "# Tree\n",
    "Tree는 이름 그대로 자료구조의 데이터 저장 형태가 나무(실제로는 꺼구로 된 나무)처럼 형성 된다. 그래서 이름이 Tree이다. 하나의 줄기에서 가지가 나오고, 그 가지에 또 잔가지가 나듯 뻗어나가는 구조이다. 시작점인 하나의 노드가 존재하며, 그 노드를 기준으로 하위노드로 노드가 연결된다.\n",
    "\n",
    "![](./images/tree.png)"
   ]
  },
  {
   "cell_type": "markdown",
   "metadata": {},
   "source": [
    "## Binary Search Tree(이진 검색 트리)\n",
    "자식 노드 수가 최대 2개까지 허용되는 이진 트리 유형이 트리이다. BST(Binary Search Tree)는 다음과 같은 규칙으로 생성된다\n",
    "- 왼쪽 자식 노드는 부모 노드보다 값이 적어야 한다.\n",
    "- 오른쪽 자식 노드는 부모 노드보다 값이 커야 한다.\n",
    "\n",
    "### 이진 검색 트리 순회\n",
    " 1. 전위 순회 Preorder Traversal\n",
    "    - root -> left -> right\n",
    " 2. 중위 순회 Inorder Traversal\n",
    "    - left -> root -> right\n",
    " 3. 후위 순회 Postorder Traversal\n",
    "    - left -> right -> root"
   ]
  },
  {
   "cell_type": "code",
   "execution_count": 25,
   "metadata": {},
   "outputs": [
    {
     "name": "stdout",
     "output_type": "stream",
     "text": [
      "preorder [7, 4, 2, 1, 3, 6, 5, 12, 9, 8, 10, 11, 14, 13, 15]\n",
      "inorder [1, 2, 3, 4, 5, 6, 7, 8, 9, 10, 11, 12, 13, 14, 15]\n",
      "postorder [1, 3, 2, 5, 6, 4, 8, 11, 10, 9, 13, 15, 14, 12, 7]\n"
     ]
    }
   ],
   "source": [
    "class BST:\n",
    "\tclass Node:\n",
    "\t\tdef __init__(self, value):\n",
    "\t\t\tself.value = value\n",
    "\t\t\tself.left  = None\n",
    "\t\t\tself.right = None\n",
    "\n",
    "\tdef __init__(self, root_value):\n",
    "\t\tself.root = Node(root_value)\n",
    "\n",
    "\tdef insert(self, value):\n",
    "\t\tdef _recursive_insert(node):\n",
    "\t\t\tif node.value > value:\n",
    "\t\t\t\tif node.left: \n",
    "\t\t\t\t\t_recursive_insert(node.left)\n",
    "\t\t\t\telse:\n",
    "\t\t\t\t\tnode.left = Node(value)\n",
    "\t\t\telse: \n",
    "\t\t\t\tif node.right:\n",
    "\t\t\t\t\t_recursive_insert(node.right)\n",
    "\t\t\t\telse:\n",
    "\t\t\t\t\tnode.right = Node(value)\n",
    "\n",
    "\t\t_recursive_insert(self.root)\n",
    "\n",
    "\tdef has_value(self, value):\n",
    "\t\tdef _recursive_search(current_node):\n",
    "\t\t\tif current_node.value == value:\n",
    "\t\t\t\treturn True\n",
    "\n",
    "\t\t\tif current_node.value > value:\n",
    "\t\t\t\treturn _recursive_search(current_node.left) if current_node.left else False\n",
    "\t\t\telse: \n",
    "\t\t\t\treturn _recursive_search(current_node.right) if current_node.right else False\n",
    "\n",
    "\t\treturn _recursive_search(self.root)\n",
    "\n",
    "\tdef inorder(self):\n",
    "\t\t\tdef _inorder(node):\n",
    "\t\t\t\tif node is None:\n",
    "\t\t\t\t\treturn []\n",
    "\t\n",
    "\t\t\t\tleft_values  = _inorder(node.left)\n",
    "\t\t\t\tright_values = _inorder(node.right)\n",
    "\t\n",
    "\t\t\t\treturn left_values + [node.value] + right_values\n",
    "\t\n",
    "\t\t\treturn _inorder(self.root)\n",
    "\t\t\t\n",
    "\tdef preorder(self):\n",
    "\t\t\tdef _preorder(node):\n",
    "\t\t\t\tif node is None:\n",
    "\t\t\t\t\treturn []\n",
    "\t\n",
    "\t\t\t\tleft_values  = _preorder(node.left)\n",
    "\t\t\t\tright_values = _preorder(node.right)\n",
    "\t\n",
    "\t\t\t\treturn [node.value] + left_values + right_values\n",
    "\t\n",
    "\t\t\treturn _preorder(self.root)\n",
    "\n",
    "\tdef postorder(self):\n",
    "\t\tdef _postorder(node):\n",
    "\t\t\tif node is None:\n",
    "\t\t\t\treturn []\n",
    "\n",
    "\t\t\tleft_values  = _postorder(node.left)\n",
    "\t\t\tright_values = _postorder(node.right)\n",
    "\n",
    "\t\t\treturn left_values + right_values + [node.value]\n",
    "\n",
    "\t\treturn _postorder(self.root)\n",
    "\n",
    "bst = BST(7)\n",
    "bst.insert(4)\n",
    "bst.insert(2)\n",
    "bst.insert(1)\n",
    "bst.insert(3)\n",
    "bst.insert(6)\n",
    "bst.insert(5)\n",
    "bst.insert(12)\n",
    "bst.insert(9)\n",
    "bst.insert(8)\n",
    "bst.insert(10)\n",
    "bst.insert(14)\n",
    "bst.insert(11)\n",
    "bst.insert(13)\n",
    "bst.insert(15)\n",
    "print('preorder',bst.preorder())\n",
    "print('inorder', bst.inorder())\n",
    "print('postorder', bst.postorder())\n"
   ]
  }
 ],
 "metadata": {
  "interpreter": {
   "hash": "31f2aee4e71d21fbe5cf8b01ff0e069b9275f58929596ceb00d14d90e3e16cd6"
  },
  "kernelspec": {
   "display_name": "Python 3.8.2 64-bit",
   "language": "python",
   "name": "python3"
  },
  "language_info": {
   "codemirror_mode": {
    "name": "ipython",
    "version": 3
   },
   "file_extension": ".py",
   "mimetype": "text/x-python",
   "name": "python",
   "nbconvert_exporter": "python",
   "pygments_lexer": "ipython3",
   "version": "3.8.5"
  },
  "orig_nbformat": 4
 },
 "nbformat": 4,
 "nbformat_minor": 2
}
