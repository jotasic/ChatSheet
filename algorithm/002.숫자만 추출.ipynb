{
 "cells": [
  {
   "cell_type": "markdown",
   "id": "d99dc81f",
   "metadata": {},
   "source": [
    "# 숫자만 추출\n",
    "문자와 숫자가 섞여있는 문자열이 주어지면 그 중 숫자만 추출하여 그 순서대로 자연수를 만 듭니다. 만들어진 자연수와 그 자연수의 약수 개수를 출력합니다.\n",
    "만약 “t0e0a1c2h0er”에서 숫자만 추출하면 0, 0, 1, 2, 0이고 이것을 자연수를 만들면 120이 됩니다.즉 첫자리0은자연수화할때무시합니다. 출력은120를출력하고,다음줄에 120 의 약수의 개수를 출력하면 됩니다.\n",
    "추출하여 만들어지는 자연수는 100,000,000을 넘지 않습니다."
   ]
  },
  {
   "cell_type": "code",
   "execution_count": 19,
   "id": "7b5f80b6",
   "metadata": {},
   "outputs": [
    {
     "name": "stdout",
     "output_type": "stream",
     "text": [
      "True\n",
      "True\n",
      "True\n",
      "True\n",
      "True\n"
     ]
    }
   ],
   "source": [
    "input = ['kdk1k0kdjfkj0kkdjkfj0fkd', 'dkf0jkk0dkjkgjljl1kgh0ekjlkjf2lkjsklfjlkdj', 'Akdj0Gk1djADG2SDGkdjf', 'Akdj0Gk1djADG2SDGkdj0f', 'Akdj0Gk1dgdgdAGSGAG3DGGA45GAGADGDGdjADG2SDGkdj0f']\n",
    "result = [(1000,16), (102,8), (12,6), (120,16), (134520,64)]\n",
    "\n",
    "\n",
    "def get_only_number(str):\n",
    "    num = 0\n",
    "    for ch in str:\n",
    "        #if ch >= '0' and ch <= '9':\n",
    "        if ch.isdigit(): \n",
    "            num = num * 10 + int(ch)\n",
    "    \n",
    "    #num = int(num)\n",
    "    divisor_count = 1\n",
    "    \n",
    "    for i in range(2, num+1):\n",
    "        if num % i == 0:\n",
    "            divisor_count += 1\n",
    "    \n",
    "    return (num, divisor_count)\n",
    "    \n",
    "            \n",
    "for i in range(len(input)):\n",
    "    print(get_only_number(input[i]) == result[i])"
   ]
  },
  {
   "cell_type": "code",
   "execution_count": null,
   "id": "1d92a6d3",
   "metadata": {},
   "outputs": [],
   "source": []
  }
 ],
 "metadata": {
  "kernelspec": {
   "display_name": "Python 3",
   "language": "python",
   "name": "python3"
  },
  "language_info": {
   "codemirror_mode": {
    "name": "ipython",
    "version": 3
   },
   "file_extension": ".py",
   "mimetype": "text/x-python",
   "name": "python",
   "nbconvert_exporter": "python",
   "pygments_lexer": "ipython3",
   "version": "3.8.5"
  }
 },
 "nbformat": 4,
 "nbformat_minor": 5
}
