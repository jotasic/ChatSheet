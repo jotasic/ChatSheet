{
 "cells": [
  {
   "cell_type": "markdown",
   "metadata": {},
   "source": [
    "# 그래프\n",
    "그래프는 node와 edge로 이루어진 자료구조이다.\n",
    "\n",
    "![](./images/graph_기본.png)\n",
    "\n",
    "- `Node`: 그래프를 구성하는 element\n",
    "- `Edge`: 각 노드를 연결하는 연결선\n",
    "\n",
    "데이터를 나타내는 노드가 존재하고 각 노드사이에 의미있는 연결이 가능하다면 기본적으로 그래프 자료구조를 사용해서 표현할 수 있다.\n",
    "- 네이버 지도, 구글 맵 등 지도\n",
    "- 지하철 노선도, 버스 노선도 등 노선도\n",
    "- 페이스북, 인스타그램등 SNS의 친구 네트워크\n",
    "\n",
    "\n",
    "## 그래프의 유형 \n",
    "- `Undirected Graph` : edge에 방향성이 특별히 없이 연결 되어 있는 형태로 연결이 중요하고 방향성은 중요하지 않은 경우에 사용하는 그래프이다.\n",
    "- `Directed Graph` :  edge에 direction(방향)이 명시되어 있는 경우이다.\n",
    "\n",
    "![](./images/graph_종류.png)\n"
   ]
  },
  {
   "cell_type": "markdown",
   "metadata": {},
   "source": [
    "## Undirected Graph 구현"
   ]
  },
  {
   "cell_type": "code",
   "execution_count": 4,
   "metadata": {},
   "outputs": [
    {
     "name": "stdout",
     "output_type": "stream",
     "text": [
      "1 - [4, 2, 3]\n",
      "2 - [3]\n"
     ]
    }
   ],
   "source": [
    "class Graph:\n",
    "    def __init__(self):\n",
    "        self._graph = {}\n",
    "    \n",
    "    def add(self, node, edges):\n",
    "        self._graph.setdefault(node, []).append(edges)\n",
    "    \n",
    "    def __repr__(self):\n",
    "        for node in self._graph:\n",
    "            graph = [f'{node} - {edges}' for node, edges in self._graph.items()]\n",
    "        return '\\n'.join(graph)\n",
    "\n",
    "    \n",
    "graph = Graph()\n",
    "graph.add(1, 4)\n",
    "graph.add(1, 2)\n",
    "graph.add(1, 3)\n",
    "graph.add(2, 3)\n",
    "\n",
    "print(graph)"
   ]
  },
  {
   "cell_type": "markdown",
   "metadata": {},
   "source": [
    "## Directed Graph 구현"
   ]
  },
  {
   "cell_type": "code",
   "execution_count": 44,
   "metadata": {},
   "outputs": [
    {
     "name": "stdout",
     "output_type": "stream",
     "text": [
      "Node(A) : [A -> B, A -> C, A -> D]\n",
      "Node(B) : [B -> A, B -> E]\n",
      "Node(C) : [C -> B, C -> D]\n",
      "Node(D) : []\n"
     ]
    }
   ],
   "source": [
    "class Node:\n",
    "    def __init__(self, value):\n",
    "        self.value = value\n",
    "        self.edges = []\n",
    "    \n",
    "    def connect(self, dest_node):\n",
    "        self.edges.append(Edge(self, dest_node))\n",
    "    \n",
    "    def __repr__(self):\n",
    "        return f'Node({self.value}) : {[edge for edge in self.edges]}'\n",
    "    \n",
    "class Edge:\n",
    "    def __init__(self, src, dest, weight = None):\n",
    "        self.src    = src\n",
    "        self.dest   = dest\n",
    "        self.weight = weight\n",
    "\n",
    "    def __repr__(self):\n",
    "        return f'{self.src.value} -> {self.dest.value}'\n",
    "\n",
    "class DirectedGraph:\n",
    "    def __init__(self):\n",
    "        self.nodes = []\n",
    "\n",
    "    def add_nodes(self, nodes):\n",
    "        self.nodes += nodes\n",
    "    \n",
    "    def add_node(self, node):\n",
    "        self.nodes.append(node)\n",
    "    \n",
    "    def __repr__(self):\n",
    "        return '\\n'.join(f'{node}' for node in self.nodes)\n",
    "\n",
    "graph  = DirectedGraph()\n",
    "node_a = Node('A')\n",
    "node_b = Node('B')\n",
    "node_c = Node('C')\n",
    "node_d = Node('D')\n",
    "node_e = Node('E')\n",
    "node_h = Node('H')\n",
    "\n",
    "graph.add_nodes([node_a, node_b, node_c, node_d])\n",
    "\n",
    "node_a.connect(node_b)\n",
    "node_a.connect(node_c)\n",
    "node_a.connect(node_d)\n",
    "node_b.connect(node_a)\n",
    "node_b.connect(node_e)\n",
    "node_c.connect(node_b)\n",
    "node_c.connect(node_d)\n",
    "\n",
    "print(graph)\n"
   ]
  },
  {
   "cell_type": "markdown",
   "metadata": {},
   "source": [
    "## 그래프 순회 알고리즘\n",
    "\n",
    "- `BFS(Breadth First Search)` : 너비를 우선 탐색하는 알고리즘으로 Queue 자료 구조를 사용해서 구현 하므로 `FIFO`에 따라 시작 노드의 바로 옆에 있는 노드들 부터 시작해서 가로로 이동하게 된다.\n",
    "- `DFS(Depth First Search)` : 위아래로 깊이 부터 탐색 하는 알고리즘 stack을 사용해서 구현 하므로 `FILO`에 따라 상하로 이동하게 된다.\n",
    "\n",
    "![](./images/graph_순회_알고리즘.png)"
   ]
  },
  {
   "cell_type": "markdown",
   "metadata": {},
   "source": [
    "### 그래프 순회 구현\n",
    "\n",
    "다음 이미지와 같이 그래프를 구현하고 A에서부터 순회를 한다. \n",
    "\n",
    "![](./images/graph_예시.png)"
   ]
  },
  {
   "cell_type": "code",
   "execution_count": 43,
   "metadata": {},
   "outputs": [
    {
     "name": "stdout",
     "output_type": "stream",
     "text": [
      "\n",
      "==BFS==\n",
      " 1 - Node(A) : [A -> B, A -> D, A -> E]\n",
      " 2 - Node(B) : [B -> C, B -> D]\n",
      " 3 - Node(D) : [D -> A, D -> C, D -> E]\n",
      " 4 - Node(E) : []\n",
      " 5 - Node(C) : []\n",
      "\n",
      "==DFS==\n",
      " 1 - Node(A) : [A -> B, A -> D, A -> E]\n",
      " 2 - Node(E) : []\n",
      " 3 - Node(D) : [D -> A, D -> C, D -> E]\n",
      " 4 - Node(C) : []\n",
      " 5 - Node(B) : [B -> C, B -> D]\n"
     ]
    }
   ],
   "source": [
    "from queue import Queue\n",
    "\n",
    "\n",
    "class TranslatableDirectedGraph(DirectedGraph):\n",
    "    \n",
    "    def bfs(self, start:Node, dest:Node=None):\n",
    "        visited = []\n",
    "        queue = Queue()\n",
    "        queue.put(start)\n",
    "\n",
    "        while not queue.empty():\n",
    "            node = queue.get()\n",
    "\n",
    "            if node not in visited:\n",
    "                visited.append(node)\n",
    "\n",
    "                if dest and node == dest:\n",
    "                    return visited\n",
    "\n",
    "                for edge in node.edges:\n",
    "                    if edge.dest not in visited:\n",
    "                        queue.put(edge.dest)\n",
    "        \n",
    "        return visited if dest is None else []\n",
    "\n",
    "    def dfs(self, start:Node, dest:Node=None):\n",
    "        visited = []\n",
    "        stack   = [start]\n",
    "\n",
    "        while stack:\n",
    "            node = stack.pop()\n",
    "\n",
    "            if node not in visited:\n",
    "                visited.append(node)\n",
    "\n",
    "                if dest and node == dest:\n",
    "                    return visited\n",
    "\n",
    "                stack += [edge.dest for edge in node.edges]\n",
    "\n",
    "        return visited if dest is None else []\n",
    "\n",
    "\n",
    "graph = TranslatableDirectedGraph()\n",
    "node_a = Node('A')\n",
    "node_b = Node('B')\n",
    "node_c = Node('C')\n",
    "node_d = Node('D')\n",
    "node_e = Node('E')\n",
    "\n",
    "\n",
    "graph.add_nodes([node_a, node_b, node_c, node_d, node_e])\n",
    "\n",
    "node_a.connect(node_b)\n",
    "node_a.connect(node_d)\n",
    "node_a.connect(node_e)\n",
    "node_b.connect(node_c)\n",
    "node_b.connect(node_d)\n",
    "node_d.connect(node_a)\n",
    "node_d.connect(node_c)\n",
    "node_d.connect(node_e)\n",
    "\n",
    "result = graph.bfs(node_a)\n",
    "print('\\n==BFS==')\n",
    "print('\\n'.join(f'{i+1:2d} - {el}' for i, el in enumerate(result)))\n",
    "\n",
    "result = graph.dfs(node_a)\n",
    "print('\\n==DFS==')\n",
    "print('\\n'.join(f'{i+1:2d} - {el}' for i, el in enumerate(result)))"
   ]
  }
 ],
 "metadata": {
  "interpreter": {
   "hash": "75b67ce1efcea8602f63f8a7996ac8a61bc15c58b3c2408885394872060f3568"
  },
  "kernelspec": {
   "display_name": "Python 3.8.5 64-bit ('base': conda)",
   "language": "python",
   "name": "python3"
  },
  "language_info": {
   "codemirror_mode": {
    "name": "ipython",
    "version": 3
   },
   "file_extension": ".py",
   "mimetype": "text/x-python",
   "name": "python",
   "nbconvert_exporter": "python",
   "pygments_lexer": "ipython3",
   "version": "3.8.5"
  },
  "orig_nbformat": 4
 },
 "nbformat": 4,
 "nbformat_minor": 2
}
