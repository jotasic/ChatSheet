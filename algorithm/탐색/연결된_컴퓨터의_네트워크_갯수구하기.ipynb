{
 "cells": [
  {
   "cell_type": "markdown",
   "metadata": {},
   "source": []
  },
  {
   "cell_type": "markdown",
   "metadata": {},
   "source": [
    "[문제 링크](https://programmers.co.kr/learn/courses/30/lessons/43162)\n",
    "\n",
    "연결된 컴퓨터에 대한 네트워크 갯수를 구하는 문제이다.\n",
    "\n",
    "BFS를 이용해서 문제를 풀었다."
   ]
  },
  {
   "cell_type": "code",
   "execution_count": 10,
   "metadata": {},
   "outputs": [],
   "source": [
    "from collections import deque\n",
    "\n",
    "def solution(n, computers):\n",
    "    queue = deque()\n",
    "    visited = [False] * n\n",
    "    network_cnt = 0\n",
    "    \n",
    "    for i in range(n):\n",
    "        if not visited[i]:\n",
    "            queue.append(i)\n",
    "            while queue:\n",
    "                computer = queue.popleft()\n",
    "                visited[computer] = True\n",
    "                for target, connected in enumerate(computers[computer]):\n",
    "                    if connected and not visited[target]:\n",
    "                        queue.append(target)\n",
    "            network_cnt+=1\n",
    "                \n",
    "    return network_cnt"
   ]
  },
  {
   "cell_type": "code",
   "execution_count": 12,
   "metadata": {},
   "outputs": [
    {
     "name": "stdout",
     "output_type": "stream",
     "text": [
      "#1 is 2 ==> result : 2\n",
      "#2 is 1 ==> result : 1\n"
     ]
    }
   ],
   "source": [
    "print(f'#1 is 2 ==> result : {solution(3, [[1, 1, 0], [1, 1, 0], [0, 0, 1]])}')\n",
    "print(f'#2 is 1 ==> result : {solution(3, [[1, 1, 0], [1, 1, 1], [0, 1, 1]])}')"
   ]
  },
  {
   "cell_type": "markdown",
   "metadata": {},
   "source": [
    "1. 탐색을 시작할 컴퓨터를 queue에 넣는다.\n",
    "2. 그 후, 연결된 모든 컴퓨터를 방문하도록 하였다. 모든 컴퓨터를 방문하면 하나의 네트워크를 다 방문하였으므로 network_cnt증가 시켰다. (while이 끝나는 시점)\n",
    "3. 모든 컴퓨터를 대상으로 시작하여 연결된 컴퓨터를 방문하도록 하여 네트워크의 갯수를 알아내었다."
   ]
  },
  {
   "cell_type": "markdown",
   "metadata": {},
   "source": []
  }
 ],
 "metadata": {
  "interpreter": {
   "hash": "75b67ce1efcea8602f63f8a7996ac8a61bc15c58b3c2408885394872060f3568"
  },
  "kernelspec": {
   "display_name": "Python 3.8.5 64-bit ('base': conda)",
   "language": "python",
   "name": "python3"
  },
  "language_info": {
   "codemirror_mode": {
    "name": "ipython",
    "version": 3
   },
   "file_extension": ".py",
   "mimetype": "text/x-python",
   "name": "python",
   "nbconvert_exporter": "python",
   "pygments_lexer": "ipython3",
   "version": "3.8.5"
  },
  "orig_nbformat": 4
 },
 "nbformat": 4,
 "nbformat_minor": 2
}
