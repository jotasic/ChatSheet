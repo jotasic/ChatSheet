{
 "cells": [
  {
   "cell_type": "markdown",
   "id": "04293098",
   "metadata": {},
   "source": [
    "# django CURD 연습"
   ]
  },
  {
   "cell_type": "markdown",
   "id": "d4073a66",
   "metadata": {},
   "source": [
    "실습의 필요한 model import"
   ]
  },
  {
   "cell_type": "code",
   "execution_count": 5,
   "id": "84b90a34",
   "metadata": {},
   "outputs": [],
   "source": [
    "from products.models import Menu"
   ]
  },
  {
   "cell_type": "markdown",
   "id": "b2e6ae52",
   "metadata": {},
   "source": [
    "## 1. Create\n",
    "Data를 만드는 과정"
   ]
  },
  {
   "cell_type": "markdown",
   "id": "ccd8ebdb",
   "metadata": {},
   "source": [
    "### 1.1 기본 사용법"
   ]
  },
  {
   "cell_type": "code",
   "execution_count": 3,
   "id": "ea280293",
   "metadata": {},
   "outputs": [],
   "source": [
    "menus = [\"음료\", \"푸드\", \"상품\", \"카드\"]\n",
    "\n",
    "for menu in menus:\n",
    "    Menu.objects.create(name=menu)"
   ]
  },
  {
   "cell_type": "markdown",
   "id": "c8cbfaf3",
   "metadata": {},
   "source": [
    "## 2. Read\n",
    "Data를 조회하기\n",
    "\n",
    "### 2.1. all() 전체 조회"
   ]
  },
  {
   "cell_type": "code",
   "execution_count": 42,
   "id": "6d7faa84",
   "metadata": {},
   "outputs": [
    {
     "data": {
      "text/plain": [
       "<QuerySet [<Menu: Menu object (1)>, <Menu: Menu object (2)>, <Menu: Menu object (3)>, <Menu: Menu object (4)>]>"
      ]
     },
     "execution_count": 42,
     "metadata": {},
     "output_type": "execute_result"
    }
   ],
   "source": [
    "Menu.objects.all()"
   ]
  },
  {
   "cell_type": "markdown",
   "id": "170a3984",
   "metadata": {},
   "source": [
    "### 2.2. get() 1개씩 조회"
   ]
  },
  {
   "cell_type": "code",
   "execution_count": 44,
   "id": "88a5b0b5",
   "metadata": {},
   "outputs": [
    {
     "name": "stdout",
     "output_type": "stream",
     "text": [
      "음료\n",
      "푸드\n",
      "상품\n",
      "카드\n"
     ]
    }
   ],
   "source": [
    "for menu in menus:\n",
    "    print(Menu.objects.get(name=menu).name)"
   ]
  },
  {
   "cell_type": "markdown",
   "id": "f3109c44",
   "metadata": {},
   "source": [
    "만약 조건에 만족하는 결과 값이 `0이거나 2이상이면 예외발생`"
   ]
  },
  {
   "cell_type": "code",
   "execution_count": 45,
   "id": "536d0c5b",
   "metadata": {},
   "outputs": [
    {
     "ename": "DoesNotExist",
     "evalue": "Menu matching query does not exist.",
     "output_type": "error",
     "traceback": [
      "\u001b[0;31m---------------------------------------------------------------------------\u001b[0m",
      "\u001b[0;31mDoesNotExist\u001b[0m                              Traceback (most recent call last)",
      "\u001b[0;32m<ipython-input-45-e5ad6bd14564>\u001b[0m in \u001b[0;36m<module>\u001b[0;34m\u001b[0m\n\u001b[0;32m----> 1\u001b[0;31m \u001b[0mprint\u001b[0m\u001b[0;34m(\u001b[0m\u001b[0mMenu\u001b[0m\u001b[0;34m.\u001b[0m\u001b[0mobjects\u001b[0m\u001b[0;34m.\u001b[0m\u001b[0mget\u001b[0m\u001b[0;34m(\u001b[0m\u001b[0mname\u001b[0m\u001b[0;34m=\u001b[0m\u001b[0;34m\"없는거\"\u001b[0m\u001b[0;34m)\u001b[0m\u001b[0;34m.\u001b[0m\u001b[0mname\u001b[0m\u001b[0;34m)\u001b[0m\u001b[0;34m\u001b[0m\u001b[0;34m\u001b[0m\u001b[0m\n\u001b[0m",
      "\u001b[0;32m~/miniconda3/envs/westarbucks/lib/python3.8/site-packages/django/db/models/manager.py\u001b[0m in \u001b[0;36mmanager_method\u001b[0;34m(self, *args, **kwargs)\u001b[0m\n\u001b[1;32m     83\u001b[0m         \u001b[0;32mdef\u001b[0m \u001b[0mcreate_method\u001b[0m\u001b[0;34m(\u001b[0m\u001b[0mname\u001b[0m\u001b[0;34m,\u001b[0m \u001b[0mmethod\u001b[0m\u001b[0;34m)\u001b[0m\u001b[0;34m:\u001b[0m\u001b[0;34m\u001b[0m\u001b[0;34m\u001b[0m\u001b[0m\n\u001b[1;32m     84\u001b[0m             \u001b[0;32mdef\u001b[0m \u001b[0mmanager_method\u001b[0m\u001b[0;34m(\u001b[0m\u001b[0mself\u001b[0m\u001b[0;34m,\u001b[0m \u001b[0;34m*\u001b[0m\u001b[0margs\u001b[0m\u001b[0;34m,\u001b[0m \u001b[0;34m**\u001b[0m\u001b[0mkwargs\u001b[0m\u001b[0;34m)\u001b[0m\u001b[0;34m:\u001b[0m\u001b[0;34m\u001b[0m\u001b[0;34m\u001b[0m\u001b[0m\n\u001b[0;32m---> 85\u001b[0;31m                 \u001b[0;32mreturn\u001b[0m \u001b[0mgetattr\u001b[0m\u001b[0;34m(\u001b[0m\u001b[0mself\u001b[0m\u001b[0;34m.\u001b[0m\u001b[0mget_queryset\u001b[0m\u001b[0;34m(\u001b[0m\u001b[0;34m)\u001b[0m\u001b[0;34m,\u001b[0m \u001b[0mname\u001b[0m\u001b[0;34m)\u001b[0m\u001b[0;34m(\u001b[0m\u001b[0;34m*\u001b[0m\u001b[0margs\u001b[0m\u001b[0;34m,\u001b[0m \u001b[0;34m**\u001b[0m\u001b[0mkwargs\u001b[0m\u001b[0;34m)\u001b[0m\u001b[0;34m\u001b[0m\u001b[0;34m\u001b[0m\u001b[0m\n\u001b[0m\u001b[1;32m     86\u001b[0m             \u001b[0mmanager_method\u001b[0m\u001b[0;34m.\u001b[0m\u001b[0m__name__\u001b[0m \u001b[0;34m=\u001b[0m \u001b[0mmethod\u001b[0m\u001b[0;34m.\u001b[0m\u001b[0m__name__\u001b[0m\u001b[0;34m\u001b[0m\u001b[0;34m\u001b[0m\u001b[0m\n\u001b[1;32m     87\u001b[0m             \u001b[0mmanager_method\u001b[0m\u001b[0;34m.\u001b[0m\u001b[0m__doc__\u001b[0m \u001b[0;34m=\u001b[0m \u001b[0mmethod\u001b[0m\u001b[0;34m.\u001b[0m\u001b[0m__doc__\u001b[0m\u001b[0;34m\u001b[0m\u001b[0;34m\u001b[0m\u001b[0m\n",
      "\u001b[0;32m~/miniconda3/envs/westarbucks/lib/python3.8/site-packages/django/db/models/query.py\u001b[0m in \u001b[0;36mget\u001b[0;34m(self, *args, **kwargs)\u001b[0m\n\u001b[1;32m    433\u001b[0m             \u001b[0;32mreturn\u001b[0m \u001b[0mclone\u001b[0m\u001b[0;34m.\u001b[0m\u001b[0m_result_cache\u001b[0m\u001b[0;34m[\u001b[0m\u001b[0;36m0\u001b[0m\u001b[0;34m]\u001b[0m\u001b[0;34m\u001b[0m\u001b[0;34m\u001b[0m\u001b[0m\n\u001b[1;32m    434\u001b[0m         \u001b[0;32mif\u001b[0m \u001b[0;32mnot\u001b[0m \u001b[0mnum\u001b[0m\u001b[0;34m:\u001b[0m\u001b[0;34m\u001b[0m\u001b[0;34m\u001b[0m\u001b[0m\n\u001b[0;32m--> 435\u001b[0;31m             raise self.model.DoesNotExist(\n\u001b[0m\u001b[1;32m    436\u001b[0m                 \u001b[0;34m\"%s matching query does not exist.\"\u001b[0m \u001b[0;34m%\u001b[0m\u001b[0;34m\u001b[0m\u001b[0;34m\u001b[0m\u001b[0m\n\u001b[1;32m    437\u001b[0m                 \u001b[0mself\u001b[0m\u001b[0;34m.\u001b[0m\u001b[0mmodel\u001b[0m\u001b[0;34m.\u001b[0m\u001b[0m_meta\u001b[0m\u001b[0;34m.\u001b[0m\u001b[0mobject_name\u001b[0m\u001b[0;34m\u001b[0m\u001b[0;34m\u001b[0m\u001b[0m\n",
      "\u001b[0;31mDoesNotExist\u001b[0m: Menu matching query does not exist."
     ]
    }
   ],
   "source": [
    "print(Menu.objects.get(name=\"없는거\").name)"
   ]
  },
  {
   "cell_type": "markdown",
   "id": "1d5d1199",
   "metadata": {},
   "source": [
    "### 2.3. filter() : 조건에 맞는 Data 조회"
   ]
  },
  {
   "cell_type": "markdown",
   "id": "e232f5e2",
   "metadata": {},
   "source": [
    "여러 Data를 반환 할 수 있으므로 QuerrySet으로 반환한다."
   ]
  },
  {
   "cell_type": "code",
   "execution_count": 78,
   "id": "ef18ab10",
   "metadata": {},
   "outputs": [
    {
     "data": {
      "text/plain": [
       "<QuerySet [<Menu: Menu object (1)>]>"
      ]
     },
     "execution_count": 78,
     "metadata": {},
     "output_type": "execute_result"
    }
   ],
   "source": [
    "Menu.objects.filter(name='음료')"
   ]
  },
  {
   "cell_type": "markdown",
   "id": "cd8808c1",
   "metadata": {},
   "source": [
    "### 2.4. exclude() : 조건에 맞는 않는 Data 조회"
   ]
  },
  {
   "cell_type": "code",
   "execution_count": 79,
   "id": "63457613",
   "metadata": {},
   "outputs": [
    {
     "data": {
      "text/plain": [
       "<QuerySet [<Menu: Menu object (2)>, <Menu: Menu object (3)>, <Menu: Menu object (4)>]>"
      ]
     },
     "execution_count": 79,
     "metadata": {},
     "output_type": "execute_result"
    }
   ],
   "source": [
    "Menu.objects.exclude(name='음료')"
   ]
  },
  {
   "cell_type": "markdown",
   "id": "9dba2d19",
   "metadata": {},
   "source": [
    "### 2.5. all() 한 테이블의 모든 레코드를 가져올 수 있음"
   ]
  },
  {
   "cell_type": "code",
   "execution_count": 81,
   "id": "e9515885",
   "metadata": {},
   "outputs": [
    {
     "data": {
      "text/plain": [
       "<QuerySet [<Menu: Menu object (1)>, <Menu: Menu object (2)>, <Menu: Menu object (3)>, <Menu: Menu object (4)>]>"
      ]
     },
     "execution_count": 81,
     "metadata": {},
     "output_type": "execute_result"
    }
   ],
   "source": [
    "Menu.objects.all()"
   ]
  },
  {
   "cell_type": "markdown",
   "id": "01c316f3",
   "metadata": {},
   "source": [
    "## 3. Update"
   ]
  },
  {
   "cell_type": "markdown",
   "id": "918ac9f7",
   "metadata": {},
   "source": [
    "### 3.1 update() 사용"
   ]
  },
  {
   "cell_type": "markdown",
   "id": "2f30a7e8",
   "metadata": {},
   "source": [
    "여러개의 레코드를 일괄적으로 내용을 업데이트 시에 사용하기가 유용 알 것 같음"
   ]
  },
  {
   "cell_type": "code",
   "execution_count": 121,
   "id": "90588701",
   "metadata": {},
   "outputs": [
    {
     "name": "stdout",
     "output_type": "stream",
     "text": [
      "<QuerySet [<Menu: Menu object (5)>]> 음료\n",
      "updated row:  1\n",
      "<QuerySet []>\n"
     ]
    },
    {
     "data": {
      "text/plain": [
       "1"
      ]
     },
     "execution_count": 121,
     "metadata": {},
     "output_type": "execute_result"
    }
   ],
   "source": [
    "menu = Menu.objects.filter(name='음료')\n",
    "print(menu, menu.first().name)\n",
    "\n",
    "updated_row_count = menu.update(name=\"음료수\")\n",
    "\n",
    "# update() 반환값은 update 레코드의 갯수\n",
    "print(\"updated row: \", updated_row_count)\n",
    "\n",
    "\n",
    "# update를 하면 기존 QuerySet에서 사라진다.\n",
    "print(menu)\n",
    "\n",
    "# 실습을 위해 복구\n",
    "menu = Menu.objects.filter(name='음료수')\n",
    "menu.update(name=\"음료\")"
   ]
  },
  {
   "cell_type": "markdown",
   "id": "821c0762",
   "metadata": {},
   "source": [
    "### 3.2 save() 사용"
   ]
  },
  {
   "cell_type": "markdown",
   "id": "7e8bbbe0",
   "metadata": {},
   "source": [
    "단일 객체에 대해서 업데이트를 수행할 때 많이 사용됨"
   ]
  },
  {
   "cell_type": "code",
   "execution_count": 122,
   "id": "4c269dc0",
   "metadata": {},
   "outputs": [
    {
     "name": "stdout",
     "output_type": "stream",
     "text": [
      "save 전에 아직 업데이트 안됨\n",
      "save 후에 정상적으로 update 완료!! ->  음료수\n"
     ]
    }
   ],
   "source": [
    "menu = Menu.objects.get(name='음료')\n",
    "menu.name = '음료수'\n",
    "\n",
    "try:\n",
    "    Menu.objects.get(name='음료수')\n",
    "except:\n",
    "    print(\"save 전에 아직 업데이트 안됨\")\n",
    "\n",
    "menu.save()\n",
    "\n",
    "menu = Menu.objects.get(name='음료수')\n",
    "print(\"save 후에 정상적으로 update 완료!! -> \", menu.name)\n",
    "\n",
    "# 실습을 위해 복구\n",
    "menu.name = '음료'\n",
    "menu.save()\n"
   ]
  },
  {
   "cell_type": "markdown",
   "id": "35ae6f3b",
   "metadata": {},
   "source": [
    "# 4. Delete"
   ]
  },
  {
   "cell_type": "markdown",
   "id": "fb935e3a",
   "metadata": {},
   "source": [
    "## 4.1 delete() 사용"
   ]
  },
  {
   "cell_type": "code",
   "execution_count": 123,
   "id": "e1148d1a",
   "metadata": {},
   "outputs": [
    {
     "name": "stdout",
     "output_type": "stream",
     "text": [
      "delete를 하였으므로 음료하는 레코드는 존재하지 않습니다\n"
     ]
    },
    {
     "data": {
      "text/plain": [
       "<Menu: Menu object (6)>"
      ]
     },
     "execution_count": 123,
     "metadata": {},
     "output_type": "execute_result"
    }
   ],
   "source": [
    "menu = Menu.objects.get(name='음료')\n",
    "menu.delete()\n",
    "\n",
    "try:\n",
    "    Menu.objects.get(name='음료')\n",
    "except:\n",
    "    print(\"delete를 하였으므로 음료하는 레코드는 존재하지 않습니다\")\n",
    "\n",
    "# 실습을 위해 복구\n",
    "Menu.objects.create(name=\"음료\")\n"
   ]
  },
  {
   "cell_type": "markdown",
   "id": "34734b22",
   "metadata": {},
   "source": [
    "## 5. 정규 표현식으로 Data 얻기"
   ]
  },
  {
   "cell_type": "markdown",
   "id": "ff08ed94",
   "metadata": {},
   "source": [
    "https://docs.djangoproject.com/en/3.2/ref/models/querysets/#regex\n",
    "https://docs.djangoproject.com/en/3.2/ref/models/querysets/#iregex\n",
    "\n",
    "[컬럼명]\\__regex 나 [컬럼명]\\__iregex 를 사용하면 된다. "
   ]
  },
  {
   "cell_type": "code",
   "execution_count": 65,
   "id": "c5aa5a6b",
   "metadata": {
    "scrolled": true
   },
   "outputs": [
    {
     "name": "stdout",
     "output_type": "stream",
     "text": [
      "<QuerySet [<Menu: Menu object (1)>]>\n",
      "Menu object (1) 음료\n",
      "<QuerySet [<Menu: Menu object (1)>]>\n",
      "Menu object (1) 음료\n",
      "Menu object (1) 음료\n"
     ]
    }
   ],
   "source": [
    "# regex : case sensitive > 대소문자 구분\n",
    "# name이 '음' 으로 시작하는 data\n",
    "menus = Menu.objects.filter(name__regex=r'^음')\n",
    "print(menus)\n",
    "\n",
    "for menu in menus:\n",
    "    print(menu, menu.name)\n",
    "\n",
    "# iregex : case insensitive > 대소문자 구분 안함\n",
    "# or \n",
    "menus = Menu.objects.filter(name__iregex=r'^음')\n",
    "print(menus)\n",
    "\n",
    "for menu in menus:\n",
    "    print(menu, menu.name)\n",
    "\n",
    "#Get 도 가능\n",
    "menu = Menu.objects.get(name__regex=r'^음')\n",
    "print(menu, menu.name)"
   ]
  },
  {
   "cell_type": "markdown",
   "id": "d92bbe1e",
   "metadata": {},
   "source": [
    "## 6. 그외 참고 메서드\n",
    "`get_or_create()`\n",
    "`bulk_create()`\n",
    "`count()`\n",
    "`first()`\n",
    "`last()`\n",
    "`aggregate()`"
   ]
  },
  {
   "cell_type": "markdown",
   "id": "ded60d7b",
   "metadata": {},
   "source": [
    "## 참고 - 실습에 사용한 Table \n",
    "```python\n",
    "# Create your models here.\n",
    "class Menu(models.Model): \n",
    "    name = models.CharField(max_length=45)\n",
    "\n",
    "    class Meta: \n",
    "        db_table = 'menus'\n",
    "\n",
    "class Category(models.Model): \n",
    "    name = models.CharField(max_length=45)\n",
    "    menu = models.ForeignKey(Menu, on_delete=models.CASCADE)\n",
    "\n",
    "    class Meta: \n",
    "        db_table = 'categories'\n",
    "```"
   ]
  }
 ],
 "metadata": {
  "kernelspec": {
   "display_name": "Django Shell-Plus",
   "language": "python",
   "name": "django_extensions"
  },
  "language_info": {
   "codemirror_mode": {
    "name": "ipython",
    "version": 3
   },
   "file_extension": ".py",
   "mimetype": "text/x-python",
   "name": "python",
   "nbconvert_exporter": "python",
   "pygments_lexer": "ipython3",
   "version": "3.8.10"
  }
 },
 "nbformat": 4,
 "nbformat_minor": 5
}
