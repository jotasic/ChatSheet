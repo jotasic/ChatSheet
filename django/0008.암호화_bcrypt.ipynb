{
 "cells": [
  {
   "cell_type": "markdown",
   "id": "eedd5fdf",
   "metadata": {},
   "source": [
    "# bcrypt"
   ]
  },
  {
   "source": [
    "## bcrypt 설치\n",
    "\n",
    "```bash\n",
    "pip install bcrypt\n",
    "```"
   ],
   "cell_type": "markdown",
   "metadata": {}
  },
  {
   "cell_type": "code",
   "execution_count": 2,
   "id": "24b6b744",
   "metadata": {},
   "outputs": [],
   "source": [
    "import bcrypt"
   ]
  },
  {
   "cell_type": "code",
   "execution_count": 3,
   "id": "9feb1302",
   "metadata": {},
   "outputs": [],
   "source": [
    "password = '1234'"
   ]
  },
  {
   "cell_type": "markdown",
   "id": "d2df517d",
   "metadata": {},
   "source": [
    "유니코드는 해싱전에 인코딩 해야됩니다. 'utf-8'"
   ]
  },
  {
   "cell_type": "code",
   "execution_count": 4,
   "id": "1e070cf9",
   "metadata": {},
   "outputs": [
    {
     "output_type": "error",
     "ename": "TypeError",
     "evalue": "Unicode-objects must be encoded before hashing",
     "traceback": [
      "\u001b[0;31m---------------------------------------------------------------------------\u001b[0m",
      "\u001b[0;31mTypeError\u001b[0m                                 Traceback (most recent call last)",
      "\u001b[0;32m<ipython-input-4-82ebc179245e>\u001b[0m in \u001b[0;36m<module>\u001b[0;34m\u001b[0m\n\u001b[0;32m----> 1\u001b[0;31m \u001b[0mbcrypt\u001b[0m\u001b[0;34m.\u001b[0m\u001b[0mhashpw\u001b[0m\u001b[0;34m(\u001b[0m\u001b[0mpassword\u001b[0m\u001b[0;34m,\u001b[0m \u001b[0mbcrypt\u001b[0m\u001b[0;34m.\u001b[0m\u001b[0mgensalt\u001b[0m\u001b[0;34m(\u001b[0m\u001b[0;34m)\u001b[0m\u001b[0;34m)\u001b[0m\u001b[0;34m\u001b[0m\u001b[0;34m\u001b[0m\u001b[0m\n\u001b[0m",
      "\u001b[0;32m~/miniconda3/envs/django_dev/lib/python3.8/site-packages/bcrypt/__init__.py\u001b[0m in \u001b[0;36mhashpw\u001b[0;34m(password, salt)\u001b[0m\n\u001b[1;32m     78\u001b[0m \u001b[0;32mdef\u001b[0m \u001b[0mhashpw\u001b[0m\u001b[0;34m(\u001b[0m\u001b[0mpassword\u001b[0m\u001b[0;34m:\u001b[0m \u001b[0mbytes\u001b[0m\u001b[0;34m,\u001b[0m \u001b[0msalt\u001b[0m\u001b[0;34m:\u001b[0m \u001b[0mbytes\u001b[0m\u001b[0;34m)\u001b[0m \u001b[0;34m->\u001b[0m \u001b[0mbytes\u001b[0m\u001b[0;34m:\u001b[0m\u001b[0;34m\u001b[0m\u001b[0;34m\u001b[0m\u001b[0m\n\u001b[1;32m     79\u001b[0m     \u001b[0;32mif\u001b[0m \u001b[0misinstance\u001b[0m\u001b[0;34m(\u001b[0m\u001b[0mpassword\u001b[0m\u001b[0;34m,\u001b[0m \u001b[0msix\u001b[0m\u001b[0;34m.\u001b[0m\u001b[0mtext_type\u001b[0m\u001b[0;34m)\u001b[0m \u001b[0;32mor\u001b[0m \u001b[0misinstance\u001b[0m\u001b[0;34m(\u001b[0m\u001b[0msalt\u001b[0m\u001b[0;34m,\u001b[0m \u001b[0msix\u001b[0m\u001b[0;34m.\u001b[0m\u001b[0mtext_type\u001b[0m\u001b[0;34m)\u001b[0m\u001b[0;34m:\u001b[0m\u001b[0;34m\u001b[0m\u001b[0;34m\u001b[0m\u001b[0m\n\u001b[0;32m---> 80\u001b[0;31m         \u001b[0;32mraise\u001b[0m \u001b[0mTypeError\u001b[0m\u001b[0;34m(\u001b[0m\u001b[0;34m\"Unicode-objects must be encoded before hashing\"\u001b[0m\u001b[0;34m)\u001b[0m\u001b[0;34m\u001b[0m\u001b[0;34m\u001b[0m\u001b[0m\n\u001b[0m\u001b[1;32m     81\u001b[0m \u001b[0;34m\u001b[0m\u001b[0m\n\u001b[1;32m     82\u001b[0m     \u001b[0;32mif\u001b[0m \u001b[0;34mb\"\\x00\"\u001b[0m \u001b[0;32min\u001b[0m \u001b[0mpassword\u001b[0m\u001b[0;34m:\u001b[0m\u001b[0;34m\u001b[0m\u001b[0;34m\u001b[0m\u001b[0m\n",
      "\u001b[0;31mTypeError\u001b[0m: Unicode-objects must be encoded before hashing"
     ]
    }
   ],
   "source": [
    "bcrypt.hashpw(password, bcrypt.gensalt())"
   ]
  },
  {
   "cell_type": "code",
   "execution_count": 5,
   "id": "f51eb617",
   "metadata": {},
   "outputs": [
    {
     "output_type": "stream",
     "name": "stdout",
     "text": [
      "b'1234'\n<class 'bytes'>\n"
     ]
    }
   ],
   "source": [
    "encoded_password = password.encode('utf-8')\n",
    "print(encoded_password)\n",
    "print(type(encoded_password))"
   ]
  },
  {
   "cell_type": "code",
   "execution_count": 6,
   "id": "9dffb32d",
   "metadata": {},
   "outputs": [
    {
     "output_type": "stream",
     "name": "stdout",
     "text": [
      "1234\n<class 'str'>\n"
     ]
    }
   ],
   "source": [
    "decodded_password = encoded_password.decode('utf-8')\n",
    "print(decodded_password)\n",
    "print(type(decodded_password))"
   ]
  },
  {
   "cell_type": "markdown",
   "id": "d42e22e3",
   "metadata": {},
   "source": [
    "gensalt()를 호출할때마가 값이 다르지만 알 수 있는 방법은 hash에 slat값이 포함되기 때문이다"
   ]
  },
  {
   "cell_type": "code",
   "execution_count": 13,
   "id": "74911c5c",
   "metadata": {},
   "outputs": [
    {
     "output_type": "stream",
     "name": "stdout",
     "text": [
      "b'$2b$12$ssJBD.qpZglt0fazN4kJR.'\nb'$2b$12$NavKwMtL9f3fSwBL3oUgNO'\nb'$2b$12$gJyssPrNYMJeRZEpqt9i3.'\nb'$2b$12$XUMipwIzMDHW5aFv6vdUGO'\nb'$2b$12$5rqBJTLPZlZToIaB0KCKKe'\n"
     ]
    },
    {
     "output_type": "execute_result",
     "data": {
      "text/plain": [
       "b'$2b$12$5rqBJTLPZlZToIaB0KCKKe2jK4Om2yLUaO53TU8gPJv084bpgJVxC'"
      ]
     },
     "metadata": {},
     "execution_count": 13
    }
   ],
   "source": [
    "print(bcrypt.gensalt())\n",
    "print(bcrypt.gensalt())\n",
    "print(bcrypt.gensalt())\n",
    "print(bcrypt.gensalt())\n",
    "s = bcrypt.gensalt()\n",
    "print(s)\n",
    "\n",
    "encoded_password = password.encode('utf-8')\n",
    "bcrypt.hashpw(encoded_password, s)\n"
   ]
  },
  {
   "cell_type": "markdown",
   "id": "5db4cf2f",
   "metadata": {},
   "source": [
    "## 암호화 하기\n",
    "bcrypt는 단방향 hash로 복호화가 거의 불가능 하다.\n",
    "이 값을 비밀번호에 저장해야된다."
   ]
  },
  {
   "source": [
    "https://pypi.org/project/bcrypt/#password-hashing"
   ],
   "cell_type": "markdown",
   "metadata": {}
  },
  {
   "cell_type": "code",
   "execution_count": 16,
   "id": "19a5e926",
   "metadata": {},
   "outputs": [
    {
     "output_type": "execute_result",
     "data": {
      "text/plain": [
       "b'$2b$12$rSf6PpdIrGaG/MJekmcttOGun2xSvD63p5HgRctrvQnoeqix5cCKq'"
      ]
     },
     "metadata": {},
     "execution_count": 16
    }
   ],
   "source": [
    "password = '1234'\n",
    "salt = bcrypt.gensalt()\n",
    "hashed_password = bcrypt.hashpw(password.encode('utf-8'), salt)\n",
    "hashed_password"
   ]
  },
  {
   "cell_type": "markdown",
   "id": "9cb64e5f",
   "metadata": {},
   "source": [
    "## 비밀번호 체크 하기\n",
    "아래와 같이한다. 역시 인코딩이 되어 있어야 한다."
   ]
  },
  {
   "cell_type": "code",
   "execution_count": 17,
   "id": "f2b06d27",
   "metadata": {},
   "outputs": [
    {
     "output_type": "execute_result",
     "data": {
      "text/plain": [
       "True"
      ]
     },
     "metadata": {},
     "execution_count": 17
    }
   ],
   "source": [
    "password = '1234'\n",
    "bcrypt.checkpw(password.encode('utf-8'), hashed_password)"
   ]
  }
 ],
 "metadata": {
  "kernelspec": {
   "name": "python3810jvsc74a57bd07d4c86f7d2ac3cd5e28e83919789638831cdb01f9a26da83e25a12c40f06230a",
   "display_name": "Python 3.8.10 64-bit ('django_dev': conda)"
  },
  "language_info": {
   "codemirror_mode": {
    "name": "ipython",
    "version": 3
   },
   "file_extension": ".py",
   "mimetype": "text/x-python",
   "name": "python",
   "nbconvert_exporter": "python",
   "pygments_lexer": "ipython3",
   "version": "3.8.10"
  }
 },
 "nbformat": 4,
 "nbformat_minor": 5
}