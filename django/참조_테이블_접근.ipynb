{
 "cells": [
  {
   "cell_type": "code",
   "execution_count": 1,
   "id": "f733fb47",
   "metadata": {},
   "outputs": [],
   "source": [
    "from products.models import Allergy, Category, Image, Menu, Nutrition, Product"
   ]
  },
  {
   "cell_type": "markdown",
   "id": "926b59cd",
   "metadata": {},
   "source": [
    "# 1:N 모델 참조"
   ]
  },
  {
   "cell_type": "markdown",
   "id": "22d406a1",
   "metadata": {},
   "source": [
    "## 1.1. 정참조"
   ]
  },
  {
   "cell_type": "code",
   "execution_count": 3,
   "id": "3642f372",
   "metadata": {},
   "outputs": [
    {
     "name": "stdout",
     "output_type": "stream",
     "text": [
      "Menu object (2) 푸드\n"
     ]
    }
   ],
   "source": [
    "bread = Category.objects.get(name=\"브레드\")\n",
    "print(bread.menu, bread.menu.name)"
   ]
  },
  {
   "cell_type": "markdown",
   "id": "34c19c2f",
   "metadata": {},
   "source": [
    "## 1.2. 역참조"
   ]
  },
  {
   "cell_type": "markdown",
   "id": "df7251de",
   "metadata": {},
   "source": [
    "아래 모델에서 Menu와 Category는 1:N관계이다\n",
    "Category에서 FK인 menu를 통해서 menu를 접근할 수 있으나, 반대의 경우인 menu에서 category로는 특수한 방법을 사용해야된다.\n",
    "\n",
    "```python\n",
    "class Menu(models.Model): \n",
    "    name = models.CharField(max_length=45)\n",
    "\n",
    "    class Meta: \n",
    "        db_table = 'menus'\n",
    "\n",
    "class Category(models.Model): \n",
    "    name = models.CharField(max_length=45)\n",
    "    menu = models.ForeignKey(Menu, on_delete=models.CASCADE, related_name=\"category\")\n",
    "\n",
    "    class Meta: \n",
    "        db_table = 'categories'\n",
    "```"
   ]
  },
  {
   "cell_type": "markdown",
   "id": "a95ba2c5",
   "metadata": {},
   "source": [
    "### 1.2.1. \\[classname]_set을 이용해서 참조"
   ]
  },
  {
   "cell_type": "code",
   "execution_count": 15,
   "id": "99685da6",
   "metadata": {},
   "outputs": [
    {
     "name": "stdout",
     "output_type": "stream",
     "text": [
      "<QuerySet [<Category: Category object (10)>, <Category: Category object (11)>, <Category: Category object (12)>, <Category: Category object (13)>, <Category: Category object (14)>, <Category: Category object (15)>, <Category: Category object (16)>]>\n"
     ]
    }
   ],
   "source": [
    "food = Menu.objects.get(name=\"푸드\")\n",
    "print(food.category_set.all())"
   ]
  },
  {
   "cell_type": "markdown",
   "id": "ce9aa50f",
   "metadata": {},
   "source": [
    "### 1.2.2. related_name을 이용해서 참조\n",
    "related_name 으로 접근하는 방법"
   ]
  },
  {
   "cell_type": "code",
   "execution_count": 3,
   "id": "d26e5bea",
   "metadata": {},
   "outputs": [
    {
     "name": "stdout",
     "output_type": "stream",
     "text": [
      "<QuerySet [<Category: Category object (10)>, <Category: Category object (11)>, <Category: Category object (12)>, <Category: Category object (13)>, <Category: Category object (14)>, <Category: Category object (15)>, <Category: Category object (16)>]>\n"
     ]
    }
   ],
   "source": [
    "food = Menu.objects.get(name=\"푸드\")\n",
    "print(food.category.all())"
   ]
  },
  {
   "cell_type": "markdown",
   "id": "1cf804f4",
   "metadata": {},
   "source": [
    "`related_name` 정의 시 더 이상 `[classname]_set`을 사용할 수 없다"
   ]
  },
  {
   "cell_type": "code",
   "execution_count": 2,
   "id": "9798e730",
   "metadata": {},
   "outputs": [
    {
     "ename": "AttributeError",
     "evalue": "'Menu' object has no attribute 'category_set'",
     "output_type": "error",
     "traceback": [
      "\u001b[0;31m---------------------------------------------------------------------------\u001b[0m",
      "\u001b[0;31mAttributeError\u001b[0m                            Traceback (most recent call last)",
      "\u001b[0;32m<ipython-input-2-aac13262effd>\u001b[0m in \u001b[0;36m<module>\u001b[0;34m\u001b[0m\n\u001b[1;32m      1\u001b[0m \u001b[0mfood\u001b[0m \u001b[0;34m=\u001b[0m \u001b[0mMenu\u001b[0m\u001b[0;34m.\u001b[0m\u001b[0mobjects\u001b[0m\u001b[0;34m.\u001b[0m\u001b[0mget\u001b[0m\u001b[0;34m(\u001b[0m\u001b[0mname\u001b[0m\u001b[0;34m=\u001b[0m\u001b[0;34m\"푸드\"\u001b[0m\u001b[0;34m)\u001b[0m\u001b[0;34m\u001b[0m\u001b[0;34m\u001b[0m\u001b[0m\n\u001b[0;32m----> 2\u001b[0;31m \u001b[0mprint\u001b[0m\u001b[0;34m(\u001b[0m\u001b[0mfood\u001b[0m\u001b[0;34m.\u001b[0m\u001b[0mcategory_set\u001b[0m\u001b[0;34m.\u001b[0m\u001b[0mall\u001b[0m\u001b[0;34m(\u001b[0m\u001b[0;34m)\u001b[0m\u001b[0;34m)\u001b[0m\u001b[0;34m\u001b[0m\u001b[0;34m\u001b[0m\u001b[0m\n\u001b[0m",
      "\u001b[0;31mAttributeError\u001b[0m: 'Menu' object has no attribute 'category_set'"
     ]
    }
   ],
   "source": [
    "food = Menu.objects.get(name=\"푸드\")\n",
    "print(food.category_set.all())"
   ]
  },
  {
   "cell_type": "markdown",
   "id": "4807dbc1",
   "metadata": {},
   "source": [
    "# 2. 1:1 모델 참조 (OneToOneField)"
   ]
  },
  {
   "cell_type": "markdown",
   "id": "5a9bf4d5",
   "metadata": {},
   "source": [
    "## 1.1. 정참조\n",
    "1:N 모델과 동일"
   ]
  },
  {
   "cell_type": "markdown",
   "id": "421dadc5",
   "metadata": {},
   "source": [
    "## 1.2. 역참조"
   ]
  },
  {
   "cell_type": "markdown",
   "id": "e8726cdd",
   "metadata": {},
   "source": [
    "OneToOneField를 사용한 1:1 모델에서는 `[classname]_set`으로 접근하지 않아도 된다, 어짜피 1개이기 때문에, `[classname]`으로 접근하면 된다."
   ]
  },
  {
   "cell_type": "code",
   "execution_count": 12,
   "id": "3aa6a2b5",
   "metadata": {},
   "outputs": [
    {
     "name": "stdout",
     "output_type": "stream",
     "text": [
      "Product object (2) 콜드 브루\n"
     ]
    }
   ],
   "source": [
    "nutrition = Nutrition.objects.get(id=3)\n",
    "print(nutrition.product, nutrition.product.korean_name)"
   ]
  },
  {
   "cell_type": "markdown",
   "id": "3f5274b9",
   "metadata": {},
   "source": [
    "# 3. N:M 모델 참조 (ManyToManyField)"
   ]
  },
  {
   "cell_type": "markdown",
   "id": "fd5a2473",
   "metadata": {},
   "source": [
    "## 3.1. ManyToManyField가 있는 테이블에서 참조"
   ]
  },
  {
   "cell_type": "markdown",
   "id": "37bfbd62",
   "metadata": {},
   "source": [
    "`[ManyToManyField명].through`로 정션테이블 접근 가능"
   ]
  },
  {
   "cell_type": "code",
   "execution_count": 15,
   "id": "38da3cec",
   "metadata": {},
   "outputs": [
    {
     "name": "stdout",
     "output_type": "stream",
     "text": [
      "Allergy object (1) 대두\n",
      "Allergy object (2) 우유\n",
      "Allergy object (3) 난류\n",
      "Allergy object (4) 밀\n"
     ]
    }
   ],
   "source": [
    "product = Product.objects.get(korean_name=\"콜드 브루\")\n",
    "product_allergies = product.allergy.through.objects.all()\n",
    "\n",
    "for product_allergy in product_allergies:\n",
    "    print(product_allergy.allergy, product_allergy.allergy.name)\n",
    "    "
   ]
  },
  {
   "cell_type": "markdown",
   "id": "1fdfb412",
   "metadata": {},
   "source": [
    "`[ManyToManyField명]`로 접근 가능"
   ]
  },
  {
   "cell_type": "code",
   "execution_count": 29,
   "id": "da533cb4",
   "metadata": {},
   "outputs": [
    {
     "name": "stdout",
     "output_type": "stream",
     "text": [
      "Allergy object (1) 대두\n",
      "Allergy object (2) 우유\n",
      "Allergy object (3) 난류\n",
      "Allergy object (4) 밀\n"
     ]
    }
   ],
   "source": [
    "product = Product.objects.get(korean_name=\"바나나 슈크림 큐브\")\n",
    "allergies = product.allergy.all()\n",
    "\n",
    "for allergy in allergies:\n",
    "    print(allergy, allergy.name)\n",
    "    "
   ]
  },
  {
   "cell_type": "markdown",
   "id": "dd715e01",
   "metadata": {},
   "source": [
    "## 3.2. ManyToManyField가 없는 테이블에서 참조"
   ]
  },
  {
   "cell_type": "markdown",
   "id": "011d3ede",
   "metadata": {},
   "source": [
    "`[targetTable]_set.through`로 정션테이블 접근 가능"
   ]
  },
  {
   "cell_type": "code",
   "execution_count": 30,
   "id": "bbad98f6",
   "metadata": {},
   "outputs": [
    {
     "name": "stdout",
     "output_type": "stream",
     "text": [
      "Allergy object (1) 대두\n",
      "Allergy object (2) 우유\n",
      "Allergy object (3) 난류\n",
      "Allergy object (4) 밀\n"
     ]
    }
   ],
   "source": [
    "allergy = Allergy.objects.get(name=\"대두\")\n",
    "product_allergies = allergy.product_set.through.objects.all()\n",
    "\n",
    "for product_allergy in product_allergies:\n",
    "    print(product_allergy.allergy, product_allergy.allergy.name)\n",
    "    "
   ]
  },
  {
   "cell_type": "code",
   "execution_count": null,
   "id": "43cd5c70",
   "metadata": {},
   "outputs": [],
   "source": []
  }
 ],
 "metadata": {
  "kernelspec": {
   "display_name": "Django Shell-Plus",
   "language": "python",
   "name": "django_extensions"
  },
  "language_info": {
   "codemirror_mode": {
    "name": "ipython",
    "version": 3
   },
   "file_extension": ".py",
   "mimetype": "text/x-python",
   "name": "python",
   "nbconvert_exporter": "python",
   "pygments_lexer": "ipython3",
   "version": "3.8.10"
  }
 },
 "nbformat": 4,
 "nbformat_minor": 5
}
