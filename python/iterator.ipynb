{
 "cells": [
  {
   "cell_type": "markdown",
   "id": "architectural-jason",
   "metadata": {},
   "source": [
    "### 이터레이터는 값을 순차적으로 꺼내올 수 있는 객체"
   ]
  },
  {
   "cell_type": "code",
   "execution_count": 4,
   "id": "italic-component",
   "metadata": {},
   "outputs": [],
   "source": [
    "L = [1, 2, 3]\n",
    "for x in L:\n",
    "    print(x ** 2, end=\" \")"
   ]
  },
  {
   "cell_type": "markdown",
   "id": "finished-adventure",
   "metadata": {},
   "source": [
    "L 리스트가 반복 가능한 객체인지 확인해보는 방법은 dir 로 호출하여 **\\__iter__** 함수가 있는지 확인해볼 수 있음"
   ]
  },
  {
   "cell_type": "code",
   "execution_count": 34,
   "id": "collect-cambodia",
   "metadata": {},
   "outputs": [
    {
     "name": "stdout",
     "output_type": "stream",
     "text": [
      "['__add__', '__class__', '__class_getitem__', '__contains__', '__delattr__', '__delitem__', '__dir__', '__doc__', '__eq__', '__format__', '__ge__', '__getattribute__', '__getitem__', '__gt__', '__hash__', '__iadd__', '__imul__', '__init__', '__init_subclass__', '__iter__', '__le__', '__len__', '__lt__', '__mul__', '__ne__', '__new__', '__reduce__', '__reduce_ex__', '__repr__', '__reversed__', '__rmul__', '__setattr__', '__setitem__', '__sizeof__', '__str__', '__subclasshook__', 'append', 'clear', 'copy', 'count', 'extend', 'index', 'insert', 'pop', 'remove', 'reverse', 'sort']\n"
     ]
    }
   ],
   "source": [
    "print(dir(L))"
   ]
  },
  {
   "cell_type": "markdown",
   "id": "convenient-enterprise",
   "metadata": {},
   "source": [
    "dir로 출력해보면 **\\__iter__** 함수가 들어있는 것을 확인할 수 있습니다. 그리고 직접 **\\__iter__** 함수를 출력한 것을 print문을 사용해서 출력해보면 이터레이터 객체임을 확인할 수 있음"
   ]
  },
  {
   "cell_type": "code",
   "execution_count": 35,
   "id": "trying-champion",
   "metadata": {},
   "outputs": [
    {
     "name": "stdout",
     "output_type": "stream",
     "text": [
      "<list_iterator object at 0x110dd5790>\n"
     ]
    }
   ],
   "source": [
    "print(L.__iter__())"
   ]
  },
  {
   "cell_type": "markdown",
   "id": "adjacent-reducing",
   "metadata": {},
   "source": [
    "이터레이터를 변수에 저장후에 **\\__next\\__** 함수를 호출하면 for문이 동작하는 것처럼 값을 하나씩 꺼내올 수 있음."
   ]
  },
  {
   "cell_type": "code",
   "execution_count": 36,
   "id": "ethical-absence",
   "metadata": {},
   "outputs": [
    {
     "name": "stdout",
     "output_type": "stream",
     "text": [
      "1 2 3\n"
     ]
    }
   ],
   "source": [
    "iterator_L = L.__iter__()\n",
    "\n",
    "print(iterator_L.__next__(), end=\" \")\n",
    "print(iterator_L.__next__(), end=\" \")\n",
    "print(iterator_L.__next__())"
   ]
  },
  {
   "cell_type": "markdown",
   "id": "every-deployment",
   "metadata": {},
   "source": [
    "리스트의 인덱스를 벗어나서 가져올 값이 없으면 **StopIteration**이 발생함."
   ]
  },
  {
   "cell_type": "code",
   "execution_count": 37,
   "id": "clinical-squad",
   "metadata": {},
   "outputs": [
    {
     "ename": "StopIteration",
     "evalue": "",
     "output_type": "error",
     "traceback": [
      "\u001b[0;31m---------------------------------------------------------------------------\u001b[0m",
      "\u001b[0;31mStopIteration\u001b[0m                             Traceback (most recent call last)",
      "\u001b[0;32m<ipython-input-37-03ef501cdf48>\u001b[0m in \u001b[0;36m<module>\u001b[0;34m\u001b[0m\n\u001b[0;32m----> 1\u001b[0;31m \u001b[0mprint\u001b[0m\u001b[0;34m(\u001b[0m\u001b[0miterator_L\u001b[0m\u001b[0;34m.\u001b[0m\u001b[0m__next__\u001b[0m\u001b[0;34m(\u001b[0m\u001b[0;34m)\u001b[0m\u001b[0;34m)\u001b[0m\u001b[0;34m\u001b[0m\u001b[0;34m\u001b[0m\u001b[0m\n\u001b[0m",
      "\u001b[0;31mStopIteration\u001b[0m: "
     ]
    }
   ],
   "source": [
    "print(iterator_L.__next__())"
   ]
  },
  {
   "cell_type": "markdown",
   "id": "aggressive-accent",
   "metadata": {},
   "source": [
    "**\\__iter__**함수와 **\\__next__**함수를 편하게 사용하게 해주는 **iter**와 **next**"
   ]
  },
  {
   "cell_type": "code",
   "execution_count": 38,
   "id": "pleasant-stack",
   "metadata": {},
   "outputs": [
    {
     "name": "stdout",
     "output_type": "stream",
     "text": [
      "1 4 9 "
     ]
    }
   ],
   "source": [
    "I = iter(L)\n",
    "while True:\n",
    "    try:\n",
    "        X = next(I)\n",
    "    except StopIteration:\n",
    "        break\n",
    "    print( X**2, end=\" \")"
   ]
  },
  {
   "cell_type": "markdown",
   "id": "basic-plate",
   "metadata": {},
   "source": [
    "딕셔너리도 반복가능한 객체라서 **\\__iter__**함수와 **\\__next__**함수를 사용할 수 있고 파이썬 기본함수인 **iter**, **next** 또한 사용할 수 있음"
   ]
  },
  {
   "cell_type": "code",
   "execution_count": 39,
   "id": "opposed-glasgow",
   "metadata": {},
   "outputs": [
    {
     "name": "stdout",
     "output_type": "stream",
     "text": [
      "a b c "
     ]
    }
   ],
   "source": [
    "D = {'a':1, 'b':2, 'c':3}\n",
    "\n",
    "for key in D.keys():\n",
    "    print(key, end=\" \")"
   ]
  },
  {
   "cell_type": "markdown",
   "id": "reverse-russia",
   "metadata": {},
   "source": [
    "위와 같은 for 문을 **iter**, **next**를 사용하여 while문으로 바꿀 수 있음"
   ]
  },
  {
   "cell_type": "code",
   "execution_count": 40,
   "id": "accessible-prospect",
   "metadata": {},
   "outputs": [
    {
     "name": "stdout",
     "output_type": "stream",
     "text": [
      "a b c "
     ]
    }
   ],
   "source": [
    "D = {'a':1, 'b':2, 'c':3}\n",
    "iter_d = iter(D)\n",
    "\n",
    "while True:\n",
    "    try:\n",
    "        key = next(iter_d)\n",
    "    except:\n",
    "        break\n",
    "        \n",
    "    print(key, end=\" \")"
   ]
  }
 ],
 "metadata": {
  "kernelspec": {
   "display_name": "Python 3",
   "language": "python",
   "name": "python3"
  },
  "language_info": {
   "codemirror_mode": {
    "name": "ipython",
    "version": 3
   },
   "file_extension": ".py",
   "mimetype": "text/x-python",
   "name": "python",
   "nbconvert_exporter": "python",
   "pygments_lexer": "ipython3",
   "version": "3.9.1"
  }
 },
 "nbformat": 4,
 "nbformat_minor": 5
}
