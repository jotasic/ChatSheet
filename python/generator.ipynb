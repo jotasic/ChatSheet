{
 "cells": [
  {
   "cell_type": "markdown",
   "id": "modular-anime",
   "metadata": {},
   "source": [
    "파이썬에서 보통의 함수는 값을 반환하고 종료 하지만 제너레이터 함수는 값을 반환하기는 하지만 산출(yield)한다는 차이점이 있습니다. 그리고 제너레이터는 쉽게 얘기하면 이터레이터를 생성해주는 함수라고도 볼 수 있음\n"
   ]
  },
  {
   "cell_type": "code",
   "execution_count": 6,
   "id": "thorough-metabolism",
   "metadata": {},
   "outputs": [
    {
     "name": "stdout",
     "output_type": "stream",
     "text": [
      "gen object=<generator object generator_squares at 0x1033a3270>\n",
      "call  0\n",
      "call  1\n",
      "call  4\n"
     ]
    }
   ],
   "source": [
    "def generator_squares():\n",
    "    for i in range(3):\n",
    "        print(\"call \", end=\" \")\n",
    "        yield i ** 2\n",
    "\n",
    "gen = generator_squares()\n",
    "print(\"gen object=\", end=\"\"), print(generator_squares())\n",
    "\n",
    "print(gen.__next__())\n",
    "print(gen.__next__())\n",
    "print(gen.__next__())"
   ]
  },
  {
   "cell_type": "markdown",
   "id": "statewide-promotion",
   "metadata": {},
   "source": [
    "제너레이터를 dir로 함수 종류를 확인해보면 이터레이터와는 다르게 \\__iter__ 와 \\__next__ 함수가 둘다 들어있는 것을 확인할 수 있다."
   ]
  },
  {
   "cell_type": "markdown",
   "id": "illegal-buyer",
   "metadata": {},
   "source": [
    "그래서 이터레이터에서 처럼 \\__iter__를 호출한 후에 \\__next__함수를 호출하지 않아도 \\__next__를 바로 호출할 수 도 있습니다.그래서 이터레이터에서 처럼 \\__iter__를 호출한 후에 \\__next__함수를 호출하지 않아도 \\__next__를 바로 호출할 수 도 있습니다."
   ]
  },
  {
   "cell_type": "code",
   "execution_count": 12,
   "id": "medium-massachusetts",
   "metadata": {},
   "outputs": [
    {
     "name": "stdout",
     "output_type": "stream",
     "text": [
      "['__class__', '__del__', '__delattr__', '__dir__', '__doc__', '__eq__', '__format__', '__ge__', '__getattribute__', '__gt__', '__hash__', '__init__', '__init_subclass__', '__iter__', '__le__', '__lt__', '__name__', '__ne__', '__new__', '__next__', '__qualname__', '__reduce__', '__reduce_ex__', '__repr__', '__setattr__', '__sizeof__', '__str__', '__subclasshook__', 'close', 'gi_code', 'gi_frame', 'gi_running', 'gi_yieldfrom', 'send', 'throw']\n"
     ]
    }
   ],
   "source": [
    "print(dir(gen))"
   ]
  },
  {
   "cell_type": "markdown",
   "id": "occasional-broadcast",
   "metadata": {},
   "source": [
    "generator_send 함수는 yield로 **`send`**를 통해서 받은 값을 received_value에 할당하고 그 값의 2배 수를 리턴받고 있습니다. 제너레이터에서는 이처럼 yield를 이용해서 제너레이터 함수 실행중 값을 전달 할 수 있고, 응용하면 제너레이터 함수를 사용해서 main 실행 루프에서 연산결과에 따라 호출도 제어할 수 있습니다."
   ]
  },
  {
   "cell_type": "code",
   "execution_count": 17,
   "id": "stuck-detail",
   "metadata": {},
   "outputs": [
    {
     "name": "stdout",
     "output_type": "stream",
     "text": [
      "received_value = 2\n",
      "4\n",
      "received_value = 3\n",
      "6\n"
     ]
    }
   ],
   "source": [
    "def generator_send():\n",
    "    received_value = 0\n",
    "\n",
    "    while True:\n",
    "        received_value = yield\n",
    "        print(\"received_value = \",end=\"\"), print(received_value)\n",
    "        yield received_value * 2\n",
    "\n",
    "gen = generator_send()\n",
    "next(gen)\n",
    "print(gen.send(2))\n",
    "\n",
    "next(gen)\n",
    "print(gen.send(3))"
   ]
  },
  {
   "cell_type": "markdown",
   "id": "divided-crack",
   "metadata": {},
   "source": [
    "제너레이터 함수외에도 제너레이터 표현식(generator expression)이 있는데요. 제너레이터 표현식은 Lazy evaluation을 위해서 사용될 수 있습니다. Lazy evaluation은 말그대로 실행을 지연시킨다는 의미 입니다. \n",
    "\n",
    "제너레이터 표현식의 문법은 리스트 컴프리헨션 문법과 비슷하지만 대괄호( [ ])가 아닌 괄호를 ( ) 사용하여 만듭니다. "
   ]
  },
  {
   "cell_type": "code",
   "execution_count": 18,
   "id": "progressive-numbers",
   "metadata": {},
   "outputs": [
    {
     "name": "stdout",
     "output_type": "stream",
     "text": [
      "<generator object generate_square_from_list.<locals>.<genexpr> at 0x103411970>\n",
      "1\n",
      "4\n",
      "9\n"
     ]
    }
   ],
   "source": [
    "L = [ 1,2,3]\n",
    "\n",
    "def generate_square_from_list():\n",
    "    result = ( x*x for x in L )\n",
    "    print(result)\n",
    "    return result\n",
    "\n",
    "def print_iter(iter):\n",
    "    for element in iter:\n",
    "        print(element)\n",
    "\n",
    "print_iter( generate_square_from_list() )"
   ]
  },
  {
   "cell_type": "markdown",
   "id": "characteristic-values",
   "metadata": {},
   "source": [
    "generator와 comprehension의 차이점 "
   ]
  },
  {
   "cell_type": "code",
   "execution_count": 20,
   "id": "successful-lightweight",
   "metadata": {},
   "outputs": [
    {
     "name": "stdout",
     "output_type": "stream",
     "text": [
      "comprehension_list=\n",
      "sleep 1s\n",
      "sleep 1s\n",
      "sleep 1s\n",
      "1\n",
      "2\n",
      "3\n",
      "generator_exp=\n",
      "sleep 1s\n",
      "1\n",
      "sleep 1s\n",
      "2\n",
      "sleep 1s\n",
      "3\n"
     ]
    }
   ],
   "source": [
    "import time\n",
    "\n",
    "def print_iter(iter):\n",
    "    for element in iter:\n",
    "        print(element)\n",
    "\n",
    "def lazy_return(num):\n",
    "    print(\"sleep 1s\")\n",
    "    time.sleep(1)\n",
    "    return num\n",
    "\n",
    "print(\"comprehension_list=\")\n",
    "comprehension_list = [ lazy_return(i) for i in L ]\n",
    "print_iter(comprehension_list)\n",
    "\n",
    "print(\"generator_exp=\")\n",
    "generator_exp = ( lazy_return(i) for i in L )\n",
    "print_iter(generator_exp)"
   ]
  }
 ],
 "metadata": {
  "kernelspec": {
   "display_name": "Python 3",
   "language": "python",
   "name": "python3"
  },
  "language_info": {
   "codemirror_mode": {
    "name": "ipython",
    "version": 3
   },
   "file_extension": ".py",
   "mimetype": "text/x-python",
   "name": "python",
   "nbconvert_exporter": "python",
   "pygments_lexer": "ipython3",
   "version": "3.9.1"
  }
 },
 "nbformat": 4,
 "nbformat_minor": 5
}